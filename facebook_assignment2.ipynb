{
 "cells": [
  {
   "cell_type": "code",
   "execution_count": 1,
   "metadata": {},
   "outputs": [],
   "source": [
    "import requests\n",
    "import pandas as pd\n",
    "import numpy as np"
   ]
  },
  {
   "cell_type": "code",
   "execution_count": 3,
   "metadata": {},
   "outputs": [],
   "source": [
    "data=requests.get(\"https://graph.facebook.com/v6.0/me/feed?access_token=EAADYFj3ILIQBAGxLfrZAOW5bXISap0vhhUO3gMj5XZCXJ3CZC0kgyee9MsY0ZBeBZAQgXZCUGK5GRaLff6YtdOAxMgElZCWE5jELO91aRbCefErRcJX3IkdIcvw1JfghQHhWney265tPWZAhuRJicXPZAPLf2jawZAXYuPZCQZAx0TE59EIbk705blaPaWgcjs4MJlla3rey2NcXw2S13YO9HMAGc0UWBp5yObdsJyIPlI3kEAZDZD\")\n",
    "data = data.json()"
   ]
  },
  {
   "cell_type": "code",
   "execution_count": 27,
   "metadata": {
    "scrolled": true
   },
   "outputs": [],
   "source": [
    "messages = []\n",
    "times = []\n",
    "ids = []\n",
    "for i in data.get('data'):\n",
    "    try:\n",
    "        messages.append(i['message'])\n",
    "    except:\n",
    "        messages.append('')\n",
    "    times.append(i['created_time'])\n",
    "    ids.append(i['id'])"
   ]
  },
  {
   "cell_type": "code",
   "execution_count": 28,
   "metadata": {},
   "outputs": [
    {
     "data": {
      "text/plain": [
       "(25, 25, 25)"
      ]
     },
     "execution_count": 28,
     "metadata": {},
     "output_type": "execute_result"
    }
   ],
   "source": [
    "len(messages),len(times),len(ids)"
   ]
  },
  {
   "cell_type": "code",
   "execution_count": 31,
   "metadata": {},
   "outputs": [],
   "source": [
    "df = pd.DataFrame({\n",
    "    'Message':messages,\n",
    "    'Time':times,\n",
    "    'ID':ids\n",
    "})"
   ]
  },
  {
   "cell_type": "code",
   "execution_count": 33,
   "metadata": {},
   "outputs": [],
   "source": [
    "df.to_csv('facebook.csv',sep=',')"
   ]
  },
  {
   "cell_type": "code",
   "execution_count": 20,
   "metadata": {},
   "outputs": [
    {
     "data": {
      "text/plain": [
       "'🤣🤣🤣'"
      ]
     },
     "execution_count": 20,
     "metadata": {},
     "output_type": "execute_result"
    }
   ],
   "source": [
    "dict['message']"
   ]
  },
  {
   "cell_type": "code",
   "execution_count": 26,
   "metadata": {},
   "outputs": [
    {
     "data": {
      "text/plain": [
       "{'data': [{'message': '🤣🤣🤣',\n",
       "   'created_time': '2020-03-01T09:55:10+0000',\n",
       "   'id': '1550268178470627_1546635082167270'},\n",
       "  {'message': 'Records and Roger Federer better love story than twilight, and he is 38 years old',\n",
       "   'created_time': '2020-03-01T09:36:46+0000',\n",
       "   'id': '1550268178470627_1546623132168465'},\n",
       "  {'created_time': '2020-02-26T19:18:25+0000',\n",
       "   'id': '1550268178470627_1543446792486099'},\n",
       "  {'created_time': '2020-02-18T19:23:48+0000',\n",
       "   'id': '1550268178470627_1536391359858309'},\n",
       "  {'message': 'Two Greats of the beautiful game👏👏',\n",
       "   'created_time': '2020-02-17T17:45:49+0000',\n",
       "   'id': '1550268178470627_1535470013283777'},\n",
       "  {'message': 'These Animals define loyalty',\n",
       "   'created_time': '2020-02-10T18:53:32+0000',\n",
       "   'id': '1550268178470627_1529313950566050'},\n",
       "  {'created_time': '2020-02-08T13:08:46+0000',\n",
       "   'id': '1550268178470627_1527340614096717'},\n",
       "  {'message': 'In 1958 on the same day, probably the greatest team in the history of football lost 7 of their players, in a tragic Incident.',\n",
       "   'created_time': '2020-02-06T12:53:58+0000',\n",
       "   'id': '1550268178470627_1525533870944058'},\n",
       "  {'message': 'What a player, What a legend.. Never ever backs down from any challenge , one day someone will come and win 30 grandslams but... There can be no one better than roger fucking federer',\n",
       "   'created_time': '2020-01-30T17:25:12+0000',\n",
       "   'id': '1550268178470627_1519748068189305'},\n",
       "  {'created_time': '2020-01-21T12:37:38+0000',\n",
       "   'id': '1550268178470627_1511569589007153'},\n",
       "  {'created_time': '2020-01-21T12:36:45+0000',\n",
       "   'id': '1550268178470627_1511569102340535'},\n",
       "  {'message': 'Dil chahta hai.... Hum naa rahe kabhi yaaron k bin😍😍\\nTum ho to hum hai... Tum nahi to kuch bhi nahi\\n#Copied #Friends Forever # Goa trip ends',\n",
       "   'created_time': '2020-01-21T12:27:14+0000',\n",
       "   'id': '1550268178470627_1511562595674519'},\n",
       "  {'message': 'And... India is a democratic country',\n",
       "   'created_time': '2019-12-25T15:27:59+0000',\n",
       "   'id': '1550268178470627_1483372395160206'},\n",
       "  {'message': 'What a goal🤩',\n",
       "   'created_time': '2019-12-09T13:36:45+0000',\n",
       "   'id': '1550268178470627_1466499710180808'},\n",
       "  {'message': 'This is the country where we are living, sorry to say but our law and order is so weak and pathetic that guy who raped a girl is still alive and asking for mercy and one other guy was juvenile so he was given only 3years of imprisonment.',\n",
       "   'created_time': '2019-12-01T23:18:26+0000',\n",
       "   'id': '1550268178470627_1458861697611276'},\n",
       "  {'message': 'Because, they are not just dogs😍',\n",
       "   'created_time': '2019-11-23T23:36:02+0000',\n",
       "   'id': '1550268178470627_1450789681751811'},\n",
       "  {'message': 'Life never stops',\n",
       "   'created_time': '2019-11-18T23:37:03+0000',\n",
       "   'id': '1550268178470627_1445758915588221'},\n",
       "  {'message': \"Probably, the best reason of why we shouldn't complain, because to every person there is another person who has less\",\n",
       "   'created_time': '2019-11-06T22:28:30+0000',\n",
       "   'id': '1550268178470627_1434054940091952'},\n",
       "  {'message': 'Tumse milna......   Baatein karna.... Bada achaa lagta hai.... \\n\\nConvocation 2k19!!',\n",
       "   'created_time': '2019-11-02T05:13:09+0000',\n",
       "   'id': '1550268178470627_1429514807212632'},\n",
       "  {'message': 'Asli pyaar to dost se hi hota hai, kyunki usme koi shart nahi hoti# 4 years #Best Friends # roomies+1',\n",
       "   'created_time': '2019-07-29T09:54:51+0000',\n",
       "   'id': '1550268178470627_1350037438493703'},\n",
       "  {'message': '#Growth #Artificial Intelligence',\n",
       "   'created_time': '2019-07-14T20:53:52+0000',\n",
       "   'id': '1550268178470627_1339307539566693'},\n",
       "  {'created_time': '2019-05-07T15:44:16+0000',\n",
       "   'id': '1550268178470627_1286994561464658'},\n",
       "  {'created_time': '2019-03-25T02:34:10+0000',\n",
       "   'id': '1550268178470627_1256831051147676'},\n",
       "  {'message': 'Kahaan gaye kashmiri logon ki chaatna waale neta ye dekhliye ab bhi samajh nahi aata to desh chodo ab gussa bahut badh chuka kill these bloody Kashmiris kill them in a way that their generation would know that what is the consequence of disrespecting an army men',\n",
       "   'created_time': '2019-02-17T23:57:55+0000',\n",
       "   'id': '1550268178470627_1234472116716903'},\n",
       "  {'message': \"Many and I mean lot of people talking about love, valentine's day and all those shit let me tell you what love is\\n\\n1.when a guy leaves his home for the country that is love\\n2.when a mother sends her children to fight for the country that is her love for the nation\\n3.when a soldier lays down his last breath and every clot of blood for the fucking people who are involved in nothing but dirty politics that is love \\n4.When a family sends their kin to fight the country  without knowing whether they will ever get half of what they had given is love.\\n\\nThe people in the wardis whom we call soldiers who protect pieces of shit like Siddhu etc are the forbearers of love and sad truth of our great nation is that they are being shown utmost hatred. This is ridiculous,sick and disgusting if you can't respect them please don't dare even trying to disrespect them. Lastly I want to say people might say after this post that you are just writing it for likes and you will forget everything after 2 days .\\n\\nI don't have A right to forget them because it is because of them that I am able to even right these words. A great salute to the army and humaara kuch bigadega nahi aur pakistan tumhara hum kuch rehne nahi denge. Jai hind Jai Bharat Jai to all the armed forces personnel\",\n",
       "   'created_time': '2019-02-17T17:24:13+0000',\n",
       "   'id': '1550268178470627_1234296233401158'}],\n",
       " 'paging': {'previous': 'https://graph.facebook.com/v6.0/1550268178470627/feed?since=1583056510&access_token=EAADYFj3ILIQBAGxLfrZAOW5bXISap0vhhUO3gMj5XZCXJ3CZC0kgyee9MsY0ZBeBZAQgXZCUGK5GRaLff6YtdOAxMgElZCWE5jELO91aRbCefErRcJX3IkdIcvw1JfghQHhWney265tPWZAhuRJicXPZAPLf2jawZAXYuPZCQZAx0TE59EIbk705blaPaWgcjs4MJlla3rey2NcXw2S13YO9HMAGc0UWBp5yObdsJyIPlI3kEAZDZD&limit=25&__paging_token=enc_AdA9Roy5EgZBCtU37gbbgss3ZBrnFxWaVVlJ0ZCyK4xA5s84c1gYDtICV9kC2ibQaOl8QczZCp2stIbeTZBHXmdcdeQ0ZC9Au0vxjJRyjQNRtUH82FJQZDZD&__previous=1',\n",
       "  'next': 'https://graph.facebook.com/v6.0/1550268178470627/feed?access_token=EAADYFj3ILIQBAGxLfrZAOW5bXISap0vhhUO3gMj5XZCXJ3CZC0kgyee9MsY0ZBeBZAQgXZCUGK5GRaLff6YtdOAxMgElZCWE5jELO91aRbCefErRcJX3IkdIcvw1JfghQHhWney265tPWZAhuRJicXPZAPLf2jawZAXYuPZCQZAx0TE59EIbk705blaPaWgcjs4MJlla3rey2NcXw2S13YO9HMAGc0UWBp5yObdsJyIPlI3kEAZDZD&limit=25&until=1550424253&__paging_token=enc_AdCuwWteeZCf93NEz3UZCngRAHlg7y7ZAIv1yoYN5sOvqkKLuGbq2QV3E53PxOj3rrspQxt7OYQ1I098j4Pep0micXm6ujYngEhD80UagcprOSxaAZDZD'}}"
      ]
     },
     "execution_count": 26,
     "metadata": {},
     "output_type": "execute_result"
    }
   ],
   "source": [
    "data"
   ]
  },
  {
   "cell_type": "code",
   "execution_count": null,
   "metadata": {},
   "outputs": [],
   "source": []
  }
 ],
 "metadata": {
  "kernelspec": {
   "display_name": "Python 3",
   "language": "python",
   "name": "python3"
  },
  "language_info": {
   "codemirror_mode": {
    "name": "ipython",
    "version": 3
   },
   "file_extension": ".py",
   "mimetype": "text/x-python",
   "name": "python",
   "nbconvert_exporter": "python",
   "pygments_lexer": "ipython3",
   "version": "3.7.1"
  }
 },
 "nbformat": 4,
 "nbformat_minor": 2
}
